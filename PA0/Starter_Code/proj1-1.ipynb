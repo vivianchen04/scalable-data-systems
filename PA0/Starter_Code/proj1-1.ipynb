{
 "cells": [
  {
   "cell_type": "code",
   "execution_count": null,
   "id": "41ce48ee",
   "metadata": {},
   "outputs": [],
   "source": [
    "import json\n",
    "import ctypes\n",
    "from dask.distributed import Client\n",
    "\n",
    "def trim_memory() -> int:\n",
    "    libc = ctypes.CDLL(\"libc.so.6\")\n",
    "    return libc.malloc_trim(0)"
   ]
  },
  {
   "cell_type": "code",
   "execution_count": null,
   "id": "8aa5e2e6",
   "metadata": {},
   "outputs": [],
   "source": [
    "import numpy as np\n",
    "import pandas as pd\n",
    "import dask\n",
    "import dask.dataframe as dd\n",
    "from dask.distributed import Client\n",
    "import ctypes\n",
    "import time"
   ]
  },
  {
   "cell_type": "code",
   "execution_count": null,
   "id": "a04f921b",
   "metadata": {},
   "outputs": [],
   "source": [
    "client = Client()\n",
    "client.run(trim_memory)\n",
    "client = client.restart()"
   ]
  },
  {
   "cell_type": "code",
   "execution_count": 1,
   "id": "33998c3c",
   "metadata": {},
   "outputs": [
    {
     "ename": "NameError",
     "evalue": "name 'Client' is not defined",
     "output_type": "error",
     "traceback": [
      "\u001b[0;31m---------------------------------------------------------------------------\u001b[0m",
      "\u001b[0;31mNameError\u001b[0m                                 Traceback (most recent call last)",
      "Cell \u001b[0;32mIn[1], line 1\u001b[0m\n\u001b[0;32m----> 1\u001b[0m client \u001b[38;5;241m=\u001b[39m \u001b[43mClient\u001b[49m()\n\u001b[1;32m      2\u001b[0m \u001b[38;5;66;03m# Helps fix any memory leaks. We noticed Dask can slow down when same code is run again.\u001b[39;00m\n\u001b[1;32m      3\u001b[0m client\u001b[38;5;241m.\u001b[39mrun(trim_memory)\n",
      "\u001b[0;31mNameError\u001b[0m: name 'Client' is not defined"
     ]
    }
   ],
   "source": [
    "client"
   ]
  },
  {
   "cell_type": "code",
   "execution_count": 4,
   "id": "a95daed9",
   "metadata": {},
   "outputs": [],
   "source": [
    "user_reviews_ddf = dd.read_csv(\"user_reviews_Release.csv\")\n",
    "#user_reviews_ddf.visualize()\n",
    "user_reviews_ddf"
   ]
  },
  {
   "cell_type": "code",
   "execution_count": 7,
   "id": "7b88c2cc",
   "metadata": {},
   "outputs": [
    {
     "data": {
      "text/html": [
       "<div><strong>Dask DataFrame Structure:</strong></div>\n",
       "<div>\n",
       "<style scoped>\n",
       "    .dataframe tbody tr th:only-of-type {\n",
       "        vertical-align: middle;\n",
       "    }\n",
       "\n",
       "    .dataframe tbody tr th {\n",
       "        vertical-align: top;\n",
       "    }\n",
       "\n",
       "    .dataframe thead th {\n",
       "        text-align: right;\n",
       "    }\n",
       "</style>\n",
       "<table border=\"1\" class=\"dataframe\">\n",
       "  <thead>\n",
       "    <tr style=\"text-align: right;\">\n",
       "      <th></th>\n",
       "      <th>reviewerID</th>\n",
       "      <th>asin</th>\n",
       "      <th>reviewerName</th>\n",
       "      <th>helpful</th>\n",
       "      <th>reviewText</th>\n",
       "      <th>overall</th>\n",
       "      <th>summary</th>\n",
       "      <th>unixReviewTime</th>\n",
       "      <th>reviewTime</th>\n",
       "    </tr>\n",
       "    <tr>\n",
       "      <th>npartitions=445</th>\n",
       "      <th></th>\n",
       "      <th></th>\n",
       "      <th></th>\n",
       "      <th></th>\n",
       "      <th></th>\n",
       "      <th></th>\n",
       "      <th></th>\n",
       "      <th></th>\n",
       "      <th></th>\n",
       "    </tr>\n",
       "  </thead>\n",
       "  <tbody>\n",
       "    <tr>\n",
       "      <th></th>\n",
       "      <td>object</td>\n",
       "      <td>object</td>\n",
       "      <td>object</td>\n",
       "      <td>object</td>\n",
       "      <td>object</td>\n",
       "      <td>float64</td>\n",
       "      <td>object</td>\n",
       "      <td>float64</td>\n",
       "      <td>object</td>\n",
       "    </tr>\n",
       "    <tr>\n",
       "      <th></th>\n",
       "      <td>...</td>\n",
       "      <td>...</td>\n",
       "      <td>...</td>\n",
       "      <td>...</td>\n",
       "      <td>...</td>\n",
       "      <td>...</td>\n",
       "      <td>...</td>\n",
       "      <td>...</td>\n",
       "      <td>...</td>\n",
       "    </tr>\n",
       "    <tr>\n",
       "      <th>...</th>\n",
       "      <td>...</td>\n",
       "      <td>...</td>\n",
       "      <td>...</td>\n",
       "      <td>...</td>\n",
       "      <td>...</td>\n",
       "      <td>...</td>\n",
       "      <td>...</td>\n",
       "      <td>...</td>\n",
       "      <td>...</td>\n",
       "    </tr>\n",
       "    <tr>\n",
       "      <th></th>\n",
       "      <td>...</td>\n",
       "      <td>...</td>\n",
       "      <td>...</td>\n",
       "      <td>...</td>\n",
       "      <td>...</td>\n",
       "      <td>...</td>\n",
       "      <td>...</td>\n",
       "      <td>...</td>\n",
       "      <td>...</td>\n",
       "    </tr>\n",
       "    <tr>\n",
       "      <th></th>\n",
       "      <td>...</td>\n",
       "      <td>...</td>\n",
       "      <td>...</td>\n",
       "      <td>...</td>\n",
       "      <td>...</td>\n",
       "      <td>...</td>\n",
       "      <td>...</td>\n",
       "      <td>...</td>\n",
       "      <td>...</td>\n",
       "    </tr>\n",
       "  </tbody>\n",
       "</table>\n",
       "</div>\n",
       "<div>Dask Name: read-csv, 1 graph layer</div>"
      ],
      "text/plain": [
       "Dask DataFrame Structure:\n",
       "                reviewerID    asin reviewerName helpful reviewText  overall summary unixReviewTime reviewTime\n",
       "npartitions=445                                                                                              \n",
       "                    object  object       object  object     object  float64  object        float64     object\n",
       "                       ...     ...          ...     ...        ...      ...     ...            ...        ...\n",
       "...                    ...     ...          ...     ...        ...      ...     ...            ...        ...\n",
       "                       ...     ...          ...     ...        ...      ...     ...            ...        ...\n",
       "                       ...     ...          ...     ...        ...      ...     ...            ...        ...\n",
       "Dask Name: read-csv, 1 graph layer"
      ]
     },
     "execution_count": 7,
     "metadata": {},
     "output_type": "execute_result"
    }
   ],
   "source": [
    "user_reviews_ddf.head(5)"
   ]
  },
  {
   "cell_type": "code",
   "execution_count": null,
   "id": "2dc1ab71",
   "metadata": {},
   "outputs": [],
   "source": [
    "num_partitions = user_reviews_ddf.npartitions\n",
    "print(f\"Total number of partitions = {num_partitions}\")"
   ]
  },
  {
   "attachments": {},
   "cell_type": "markdown",
   "id": "57d0a888",
   "metadata": {},
   "source": [
    "number_products_rated = user_reviews_ddf.groupby(\"reviewerID\", sort = False).asin.count(split_out=num_partitions)\n",
    "#number_products_rated.compute()"
   ]
  },
  {
   "cell_type": "code",
   "execution_count": null,
   "id": "783207a5",
   "metadata": {},
   "outputs": [],
   "source": [
    "avg_ratings = user_reviews_ddf.groupby(\"reviewerID\", sort=False).overall.mean(split_out=100)\n",
    "#avg_ratings.compute()"
   ]
  },
  {
   "cell_type": "code",
   "execution_count": null,
   "id": "ccf76169",
   "metadata": {},
   "outputs": [],
   "source": [
    "year = user_reviews_ddf.map_partitions(lambda df: df.reviewTime.apply(lambda x: int(x[-4:])), meta=pd.Series(dtype=int))\n",
    "user_reviews_ddf['year'] = year\n",
    "reviewing_since = user_reviews_ddf.groupby('reviewerID',sort=False).year.min(split_out=100)\n",
    "#reviewing_since.compute()"
   ]
  },
  {
   "cell_type": "code",
   "execution_count": null,
   "id": "d65a3acf",
   "metadata": {},
   "outputs": [],
   "source": [
    "user_reviews_ddf['helpful_votes']  = user_reviews_ddf.map_partitions(lambda df: df.helpful.apply(lambda x: x[1:-1].split(',')[0]).astype(int), meta=pd.Series(dtype=int))\n",
    "user_reviews_ddf['total_votes'] = user_reviews_ddf.map_partitions(lambda df: df.helpful.apply(lambda x: x[1:-1].split(',')[1]), meta=pd.Series(dtype=int))\n",
    "\n",
    "#user_reviews_ddf['helpful_votes'].describe()"
   ]
  },
  {
   "cell_type": "code",
   "execution_count": null,
   "id": "8c0047fe",
   "metadata": {},
   "outputs": [],
   "source": [
    "helpful_votes = user_reviews_ddf.groupby('reviewerID', sort=False).helpful_votes.sum(split_out=100)\n",
    "total_votes = user_reviews_ddf.groupby('reviewerID',sort=False).total_votes.sum(split_out=100)\n",
    "#helpful_votes.compute()"
   ]
  },
  {
   "cell_type": "code",
   "execution_count": null,
   "id": "00673663",
   "metadata": {},
   "outputs": [],
   "source": [
    "import time\n",
    "start_time = time.time()\n",
    "dd_res = dd.concat([number_products_rated, avg_ratings, reviewing_since, helpful_votes, total_votes], axis=1)\n",
    "dd_res = dd_res.rename(columns={'asin': 'number_products_rated', 'overall': 'avg_ratings', 'year':reviewing_since})\n",
    "submit = dd_res.describe().compute().round(2)\n",
    "with open('results_PA0.json', 'w') as outfile:\n",
    "        json.dump(json.loads(submit.to_json()), outfile)\n",
    "end_time = time.time()\n",
    "elapsed_time = end_time - start_time\n",
    "print(f\"Execution time: {elapsed_time:.6f} seconds\")"
   ]
  },
  {
   "cell_type": "code",
   "execution_count": null,
   "id": "ccd21bf9",
   "metadata": {},
   "outputs": [],
   "source": [
    "#dd_res.tail(10)"
   ]
  },
  {
   "cell_type": "code",
   "execution_count": null,
   "id": "c32a30d7",
   "metadata": {},
   "outputs": [],
   "source": [
    "import time\n",
    "\n",
    "client = Client()\n",
    "client.run(trim_memory)\n",
    "client.restart()"
   ]
  },
  {
   "cell_type": "code",
   "execution_count": null,
   "id": "22b13e32",
   "metadata": {},
   "outputs": [],
   "source": [
    "\n",
    "start_time = time.time()\n",
    "\n",
    "def PA0(user_reviews_csv_path):\n",
    "#     client = Client()\n",
    "#     client.run(trim_memory)\n",
    "#     client.restart()\n",
    "    user_reviews_ddf = dd.read_csv(user_reviews_csv_path)\n",
    "    number_products_rated = user_reviews_ddf.groupby(\"reviewerID\", sort = False).asin.count(split_out=100) \n",
    "    avg_ratings = user_reviews_ddf.groupby(\"reviewerID\", sort=False).overall.mean(split_out=100)\n",
    "    user_reviews_ddf['year'] = user_reviews_ddf.map_partitions(lambda df: df.reviewTime.apply(lambda x: int(x[-4:])), meta=pd.Series(dtype=int))\n",
    "    reviewing_since = user_reviews_ddf.groupby('reviewerID',sort=False).year.min(split_out=100)\n",
    "\n",
    "    user_reviews_ddf['helpful_votes']  = user_reviews_ddf.map_partitions(lambda df: df.helpful.apply(lambda x: x[1:-1].split(',')[0]).astype(int), meta=pd.Series(dtype=int))\n",
    "    user_reviews_ddf['total_votes'] = user_reviews_ddf.map_partitions(lambda df: df.helpful.apply(lambda x: x[1:-1].split(',')[1]).astype(int), meta=pd.Series(dtype=int))\n",
    "\n",
    "    helpful_votes = user_reviews_ddf.groupby('reviewerID', sort=False).helpful_votes.sum(split_out=100)\n",
    "    total_votes = user_reviews_ddf.groupby('reviewerID',sort=False).total_votes.sum(split_out=100)\n",
    "\n",
    "    dd_res = dd.concat([number_products_rated, avg_ratings, reviewing_since, helpful_votes, total_votes], axis=1)\n",
    "    dd_res = dd_res.rename(columns={'asin': 'number_products_rated', 'overall': 'avg_ratings', 'year': 'reviewing_since'})\n",
    "    submit = dd_res.describe().compute().round(2)\n",
    "    with open('results_PA0.json', 'w') as outfile:\n",
    "        json.dump(json.loads(submit.to_json()), outfile)\n",
    "    return submit\n",
    "\n",
    "submit = PA0(\"user_reviews_Release.csv\")\n",
    "end_time = time.time()\n",
    "elapsed_time = end_time - start_time\n",
    "print(f\"Execution time: {elapsed_time:.6f} seconds\")\n"
   ]
  }
 ],
 "metadata": {
  "kernelspec": {
   "display_name": "Python 3 (ipykernel)",
   "language": "python",
   "name": "python3"
  },
  "language_info": {
   "codemirror_mode": {
    "name": "ipython",
    "version": 3
   },
   "file_extension": ".py",
   "mimetype": "text/x-python",
   "name": "python",
   "nbconvert_exporter": "python",
   "pygments_lexer": "ipython3",
   "version": "3.10.6"
  }
 },
 "nbformat": 4,
 "nbformat_minor": 5
}
